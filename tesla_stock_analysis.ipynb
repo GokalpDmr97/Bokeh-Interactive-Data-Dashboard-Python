{
 "cells": [
  {
   "cell_type": "code",
   "execution_count": 65,
   "metadata": {},
   "outputs": [],
   "source": [
    "from pandas_datareader import data\n",
    "import datetime\n",
    "from bokeh.plotting import figure, show, output_file \n",
    "from bokeh.embed import components\n",
    "from bokeh.resources import CDN "
   ]
  },
  {
   "cell_type": "code",
   "execution_count": 66,
   "metadata": {},
   "outputs": [],
   "source": [
    "start = datetime.datetime(2021, 1, 1)\n",
    "end = datetime.datetime.now()\n",
    "df = data.DataReader(name = \"TSLA\", data_source = 'yahoo', start = start, end = end)"
   ]
  },
  {
   "cell_type": "code",
   "execution_count": 67,
   "metadata": {},
   "outputs": [],
   "source": [
    "def check_status (closing, opening):\n",
    "    if closing > opening :\n",
    "        value = 'Increase'\n",
    "    elif closing < opening:\n",
    "        value = 'Decrease'\n",
    "    else:\n",
    "        value = 'Equal'\n",
    "    return value\n",
    "\n",
    "df['Status'] = [check_status(c, o) for c, o in zip(df.Close, df.Open)]\n",
    "df['Middle'] = (df.Open + df.Close)/2\n",
    "df['Height'] = abs(df.Close - df.Open)"
   ]
  },
  {
   "cell_type": "code",
   "execution_count": 69,
   "metadata": {},
   "outputs": [],
   "source": [
    "hours = 12*60*60*1000\n",
    "\n",
    "plot_figure = figure(x_axis_type = 'datetime', width = 1000, height = 300, sizing_mode = 'scale_width') \n",
    "plot_figure.title.text = \"Candlestick Chart\"\n",
    "plot_figure.grid.grid_line_alpha = 0.3\n",
    "\n",
    "plot_figure.segment(df.index, df.High, df.index, df.Low, color = \"Black\")\n",
    "\n",
    "plot_figure.rect(df.index[df.Status ==\"Increase\"], df.Middle[df.Status ==\"Increase\"], \n",
    "                hours, df.Height[df.Status ==\"Increase\"], fill_color = \"#CCFF66\", line_color = \"black\"\n",
    "                )\n",
    "\n",
    "plot_figure.rect(df.index[df.Status ==\"Decrease\"], df.Middle[df.Status ==\"Decrease\"], \n",
    "                hours, df.Height[df.Status ==\"Decrease\"], fill_color = \"#FF6666\", line_color = \"black\"\n",
    "                )\n",
    "\n",
    "script1, div1 = components(plot_figure)\n",
    "cdn_js = CDN.js_files\n",
    "#output_file(\"stock_candlestick_graph.html\")\n",
    "#show(plot_figure)"
   ]
  }
 ],
 "metadata": {
  "kernelspec": {
   "display_name": "Python 3",
   "language": "python",
   "name": "python3"
  },
  "language_info": {
   "codemirror_mode": {
    "name": "ipython",
    "version": 3
   },
   "file_extension": ".py",
   "mimetype": "text/x-python",
   "name": "python",
   "nbconvert_exporter": "python",
   "pygments_lexer": "ipython3",
   "version": "3.7.6"
  }
 },
 "nbformat": 4,
 "nbformat_minor": 4
}
